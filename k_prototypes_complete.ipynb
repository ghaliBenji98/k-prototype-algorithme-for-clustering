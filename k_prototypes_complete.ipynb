{
  "nbformat": 4,
  "nbformat_minor": 0,
  "metadata": {
    "colab": {
      "name": "k-prototypes.ipynb",
      "provenance": [],
      "private_outputs": true,
      "collapsed_sections": []
    },
    "kernelspec": {
      "name": "python3",
      "display_name": "Python 3"
    },
    "accelerator": "GPU"
  },
  "cells": [
    {
      "cell_type": "markdown",
      "metadata": {
        "id": "2Kn5NzrX5a6C"
      },
      "source": [
        "# <font color = 'red'>Clustering algorithme</font>"
      ]
    },
    {
      "cell_type": "code",
      "metadata": {
        "id": "ku0uCQCY5bcN"
      },
      "source": [
        "!pip install kmodes"
      ],
      "execution_count": null,
      "outputs": []
    },
    {
      "cell_type": "code",
      "metadata": {
        "id": "5idjxYYfOxHE"
      },
      "source": [
        "import numpy as np\n",
        "import pandas as pd\n",
        "from kmodes.kprototypes import KPrototypes\n",
        "import matplotlib.pyplot as plt\n",
        "from datetime import datetime\n",
        "from sklearn.preprocessing import MinMaxScaler\n",
        "from sklearn.cluster import KMeans"
      ],
      "execution_count": null,
      "outputs": []
    },
    {
      "cell_type": "markdown",
      "metadata": {
        "id": "wjn5b0sb508Q"
      },
      "source": [
        "# Upload the data"
      ]
    },
    {
      "cell_type": "code",
      "metadata": {
        "id": "keoguwvMPBkz"
      },
      "source": [
        "from google.colab import files\n",
        "uploaded = files.upload()"
      ],
      "execution_count": null,
      "outputs": []
    },
    {
      "cell_type": "code",
      "metadata": {
        "id": "-3oR0ZFVPcGM"
      },
      "source": [
        "import pandas as pd\n",
        "data = pd.read_excel('Book1.xlsx', index_col=0, header=0)\n",
        "data.head()"
      ],
      "execution_count": null,
      "outputs": []
    },
    {
      "cell_type": "markdown",
      "metadata": {
        "id": "37TWR5tW58dw"
      },
      "source": [
        "# Data preprocessing"
      ]
    },
    {
      "cell_type": "code",
      "metadata": {
        "id": "1cdcSaMlPiwb"
      },
      "source": [
        "def time(row):\n",
        "    return datetime.strptime(row, '%H:%M')\n",
        "\n",
        "def minutes(row):\n",
        "    return row.total_seconds() / (60*60)\n",
        "data['date_diff_hour'] = (data['Date_entree'] - data['Date_sortie'] + data['Heure_entree'].apply(time) - data['Heure_sortie'].apply(time)).apply(minutes)"
      ],
      "execution_count": null,
      "outputs": []
    },
    {
      "cell_type": "code",
      "metadata": {
        "id": "eO8yC6Qdyubx"
      },
      "source": [
        "def covid(row):\n",
        "    if row < datetime.strptime('2020/03/16', '%Y/%m/%d'):\n",
        "        return 'Avant_covid'\n",
        "    else :\n",
        "        return 'Pendant_covid'\n",
        "data['Covid'] = data['Date_sortie'].apply(covid)\n"
      ],
      "execution_count": null,
      "outputs": []
    },
    {
      "cell_type": "code",
      "metadata": {
        "id": "xPu4QqRVyxXI"
      },
      "source": [
        "def time(row):\n",
        "    if datetime.strptime(row, '%H:%M') <= datetime.strptime('12:00', '%H:%M'):\n",
        "        return 'Matin'\n",
        "    elif datetime.strptime(row, '%H:%M') > datetime.strptime('12:00', '%H:%M') and datetime.strptime(row, '%H:%M') <= datetime.strptime('18:00', '%H:%M') : \n",
        "        return 'Apres-midi'\n",
        "    elif datetime.strptime(row, '%H:%M') > datetime.strptime('18:00', '%H:%M'): \n",
        "        return 'Nuit'\n",
        "data['Heure_entree'] = data['Heure_entree'].apply(time)\n",
        "data['Heure_sortie'] = data['Heure_sortie'].apply(time)"
      ],
      "execution_count": null,
      "outputs": []
    },
    {
      "cell_type": "code",
      "metadata": {
        "id": "PQbXn_KZzdJe"
      },
      "source": [
        "data = data.drop(['Date_entree','Date_sortie','Num_REMORQUE'],axis = 1)"
      ],
      "execution_count": null,
      "outputs": []
    },
    {
      "cell_type": "code",
      "metadata": {
        "id": "B-TrlspjTClE"
      },
      "source": [
        "scaler = MinMaxScaler()\n",
        "data[['Poids_charge',\t'Poids_vide','date_diff_hour']] = scaler.fit_transform(data[['Poids_charge',\t'Poids_vide','date_diff_hour']])"
      ],
      "execution_count": null,
      "outputs": []
    },
    {
      "cell_type": "markdown",
      "metadata": {
        "id": "zTxzWsxf6Bh-"
      },
      "source": [
        "# Final state of the data"
      ]
    },
    {
      "cell_type": "code",
      "metadata": {
        "id": "sI9iWtypzOrk"
      },
      "source": [
        "data.head()"
      ],
      "execution_count": null,
      "outputs": []
    },
    {
      "cell_type": "code",
      "metadata": {
        "id": "rIisdrwIP0su"
      },
      "source": [
        "data_values = data.values\n",
        "data_values[:,3] = data_values[:,3].astype(float) \n",
        "data_values[:,4] = data_values[:,4].astype(float) \n",
        "data_values[:,8] = data_values[:,8].astype(float) "
      ],
      "execution_count": null,
      "outputs": []
    },
    {
      "cell_type": "markdown",
      "metadata": {
        "id": "IB8ue1vn6T9R"
      },
      "source": [
        "# Finding the optimum value for the number of clusters (k) using the elbow method"
      ]
    },
    {
      "cell_type": "code",
      "metadata": {
        "id": "bR5wXGp_QOmo"
      },
      "source": [
        "Cost_proto = []\n",
        "for i in range(1,11):\n",
        "  kproto = KPrototypes(n_clusters=i,max_iter=20,verbose=0).fit(data_values, categorical = [0,1,2,5,6,7,9])\n",
        "  Cost_proto.append(kproto.cost_)"
      ],
      "execution_count": null,
      "outputs": []
    },
    {
      "cell_type": "code",
      "metadata": {
        "id": "9vG5125Cv7uY"
      },
      "source": [
        "plt.plot(range(1,11), Cost_proto, marker = 'o')\n",
        "plt.xlabel('Number of clusters')\n",
        "plt.ylabel('Cost')\n",
        "plt.show()"
      ],
      "execution_count": null,
      "outputs": []
    },
    {
      "cell_type": "markdown",
      "metadata": {
        "id": "McdEmy_i6m6_"
      },
      "source": [
        "# We choose k =5"
      ]
    },
    {
      "cell_type": "code",
      "metadata": {
        "id": "mjVFZydm3Tyd"
      },
      "source": [
        "kproto = KPrototypes(n_clusters=5,max_iter=200,verbose=0)\n",
        "clusters = kproto.fit_predict(data_values, categorical = [0,1,2,5,6,7,9])"
      ],
      "execution_count": null,
      "outputs": []
    },
    {
      "cell_type": "markdown",
      "metadata": {
        "id": "WK3vFHqc62hH"
      },
      "source": [
        "# Result"
      ]
    },
    {
      "cell_type": "code",
      "metadata": {
        "id": "4UjAyPOW6tiM"
      },
      "source": [
        "data['clusters'] = clusters\n",
        "data.head()"
      ],
      "execution_count": null,
      "outputs": []
    },
    {
      "cell_type": "markdown",
      "metadata": {
        "id": "UkHa72b967l_"
      },
      "source": [
        "# Comparison with the k-means method that uses only numerical data"
      ]
    },
    {
      "cell_type": "markdown",
      "metadata": {
        "id": "-1sy3QgN7LCb"
      },
      "source": [
        "# Finding the optimum value for the number of clusters (k) using the elbow method"
      ]
    },
    {
      "cell_type": "code",
      "metadata": {
        "id": "TGsbfN7VtslQ"
      },
      "source": [
        "X = data[['Poids_charge',\t'Poids_vide','date_diff_hour']].values\n",
        "cost = []\n",
        "for i in range(1,11):\n",
        "  kmeans = KMeans(n_clusters=i).fit(X)\n",
        "  cost.append(kmeans.inertia_)"
      ],
      "execution_count": null,
      "outputs": []
    },
    {
      "cell_type": "code",
      "metadata": {
        "id": "C1d4mSaTvqQk"
      },
      "source": [
        "plt.plot(range(1,11), cost, marker = 'o')\n",
        "plt.xlabel('Number of clusters')\n",
        "plt.ylabel('Cost')\n",
        "plt.show()"
      ],
      "execution_count": null,
      "outputs": []
    },
    {
      "cell_type": "markdown",
      "metadata": {
        "id": "XxegSvFp7Q9p"
      },
      "source": [
        "# We choose k = 4"
      ]
    },
    {
      "cell_type": "code",
      "metadata": {
        "id": "6L1cTj7XyOGS"
      },
      "source": [
        "kmeans = KMeans(n_clusters=4)\n",
        "clusters = kmeans.fit_predict(X)"
      ],
      "execution_count": null,
      "outputs": []
    },
    {
      "cell_type": "code",
      "metadata": {
        "id": "VQFXo3xi7Zo3"
      },
      "source": [
        "data['clusters'] = clusters\n",
        "data.head()"
      ],
      "execution_count": null,
      "outputs": []
    },
    {
      "cell_type": "code",
      "metadata": {
        "id": "3L08wXDq7vwd"
      },
      "source": [
        ""
      ],
      "execution_count": null,
      "outputs": []
    }
  ]
}