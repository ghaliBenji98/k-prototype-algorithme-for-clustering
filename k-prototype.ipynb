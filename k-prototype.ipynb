{
 "cells": [
  {
   "cell_type": "markdown",
   "metadata": {},
   "source": [
    "# <font color='red'>K-prototype algorithme for k = 2 clusters</font>"
   ]
  },
  {
   "cell_type": "code",
   "execution_count": null,
   "metadata": {},
   "outputs": [],
   "source": [
    "import pandas as pd\n",
    "from datetime import datetime\n",
    "import numpy as np\n",
    "import random\n",
    "from sklearn.preprocessing import LabelEncoder, MinMaxScaler\n",
    "\n",
    "Data = pd.read_excel(r\"Dataset1.xlsx\")"
   ]
  },
  {
   "cell_type": "code",
   "execution_count": 160,
   "metadata": {},
   "outputs": [
    {
     "data": {
      "text/html": [
       "<div>\n",
       "<style scoped>\n",
       "    .dataframe tbody tr th:only-of-type {\n",
       "        vertical-align: middle;\n",
       "    }\n",
       "\n",
       "    .dataframe tbody tr th {\n",
       "        vertical-align: top;\n",
       "    }\n",
       "\n",
       "    .dataframe thead th {\n",
       "        text-align: right;\n",
       "    }\n",
       "</style>\n",
       "<table border=\"1\" class=\"dataframe\">\n",
       "  <thead>\n",
       "    <tr style=\"text-align: right;\">\n",
       "      <th></th>\n",
       "      <th>Num_escale</th>\n",
       "      <th>Num_Vehicule</th>\n",
       "      <th>Num_REMORQUE</th>\n",
       "      <th>Num_Client</th>\n",
       "      <th>Date_entree</th>\n",
       "      <th>Heure_entree</th>\n",
       "      <th>Date_sortie</th>\n",
       "      <th>Heure_sortie</th>\n",
       "      <th>Poids_charge</th>\n",
       "      <th>Poids_vide</th>\n",
       "      <th>Pont_entree</th>\n",
       "      <th>pont_Sortie</th>\n",
       "      <th>Produit</th>\n",
       "    </tr>\n",
       "  </thead>\n",
       "  <tbody>\n",
       "    <tr>\n",
       "      <th>0</th>\n",
       "      <td>Escale11</td>\n",
       "      <td>Vehicule105</td>\n",
       "      <td>Remorque683</td>\n",
       "      <td>Client8</td>\n",
       "      <td>2020-04-25</td>\n",
       "      <td>10:17</td>\n",
       "      <td>2020-04-24</td>\n",
       "      <td>20:25</td>\n",
       "      <td>43840</td>\n",
       "      <td>16380</td>\n",
       "      <td>14</td>\n",
       "      <td>14.0</td>\n",
       "      <td>BLE TENDRE</td>\n",
       "    </tr>\n",
       "    <tr>\n",
       "      <th>1</th>\n",
       "      <td>Escale91</td>\n",
       "      <td>Vehicule799</td>\n",
       "      <td>Remorque920</td>\n",
       "      <td>Client12</td>\n",
       "      <td>2020-02-22</td>\n",
       "      <td>12:41</td>\n",
       "      <td>2020-02-22</td>\n",
       "      <td>12:23</td>\n",
       "      <td>43840</td>\n",
       "      <td>16460</td>\n",
       "      <td>10</td>\n",
       "      <td>10.0</td>\n",
       "      <td>CHARBON</td>\n",
       "    </tr>\n",
       "    <tr>\n",
       "      <th>2</th>\n",
       "      <td>Escale76</td>\n",
       "      <td>Vehicule1186</td>\n",
       "      <td>Remorque1574</td>\n",
       "      <td>Client7</td>\n",
       "      <td>2020-03-22</td>\n",
       "      <td>10:00</td>\n",
       "      <td>2020-03-22</td>\n",
       "      <td>08:03</td>\n",
       "      <td>43680</td>\n",
       "      <td>15980</td>\n",
       "      <td>19</td>\n",
       "      <td>19.0</td>\n",
       "      <td>HUILE BRUTE DE SOJA</td>\n",
       "    </tr>\n",
       "    <tr>\n",
       "      <th>3</th>\n",
       "      <td>Escale72</td>\n",
       "      <td>Vehicule46</td>\n",
       "      <td>Remorque46</td>\n",
       "      <td>Client1</td>\n",
       "      <td>2020-04-14</td>\n",
       "      <td>11:11</td>\n",
       "      <td>2020-04-14</td>\n",
       "      <td>09:50</td>\n",
       "      <td>43140</td>\n",
       "      <td>16020</td>\n",
       "      <td>19</td>\n",
       "      <td>19.0</td>\n",
       "      <td>MAIS</td>\n",
       "    </tr>\n",
       "    <tr>\n",
       "      <th>4</th>\n",
       "      <td>Escale49</td>\n",
       "      <td>Vehicule176</td>\n",
       "      <td>Remorque176</td>\n",
       "      <td>Client21</td>\n",
       "      <td>2020-05-20</td>\n",
       "      <td>13:13</td>\n",
       "      <td>2020-05-20</td>\n",
       "      <td>12:04</td>\n",
       "      <td>43500</td>\n",
       "      <td>15520</td>\n",
       "      <td>18</td>\n",
       "      <td>18.0</td>\n",
       "      <td>BLE TENDRE</td>\n",
       "    </tr>\n",
       "  </tbody>\n",
       "</table>\n",
       "</div>"
      ],
      "text/plain": [
       "  Num_escale  Num_Vehicule  Num_REMORQUE Num_Client Date_entree Heure_entree  \\\n",
       "0   Escale11   Vehicule105   Remorque683    Client8  2020-04-25        10:17   \n",
       "1   Escale91   Vehicule799   Remorque920   Client12  2020-02-22        12:41   \n",
       "2   Escale76  Vehicule1186  Remorque1574    Client7  2020-03-22        10:00   \n",
       "3   Escale72    Vehicule46    Remorque46    Client1  2020-04-14        11:11   \n",
       "4   Escale49   Vehicule176   Remorque176   Client21  2020-05-20        13:13   \n",
       "\n",
       "  Date_sortie Heure_sortie  Poids_charge  Poids_vide  Pont_entree  \\\n",
       "0  2020-04-24        20:25         43840       16380           14   \n",
       "1  2020-02-22        12:23         43840       16460           10   \n",
       "2  2020-03-22        08:03         43680       15980           19   \n",
       "3  2020-04-14        09:50         43140       16020           19   \n",
       "4  2020-05-20        12:04         43500       15520           18   \n",
       "\n",
       "   pont_Sortie              Produit  \n",
       "0         14.0           BLE TENDRE  \n",
       "1         10.0              CHARBON  \n",
       "2         19.0  HUILE BRUTE DE SOJA  \n",
       "3         19.0                 MAIS  \n",
       "4         18.0           BLE TENDRE  "
      ]
     },
     "execution_count": 160,
     "metadata": {},
     "output_type": "execute_result"
    }
   ],
   "source": [
    "data = Data.sample(1000).reset_index(drop=True)\n",
    "n =len(data)\n",
    "data.head()"
   ]
  },
  {
   "cell_type": "markdown",
   "metadata": {},
   "source": [
    "# Data preprocessing"
   ]
  },
  {
   "cell_type": "markdown",
   "metadata": {},
   "source": [
    "## Calculate the time difference between departure and return time"
   ]
  },
  {
   "cell_type": "code",
   "execution_count": 161,
   "metadata": {},
   "outputs": [],
   "source": [
    "def time(row):\n",
    "    return datetime.strptime(row, '%H:%M')\n",
    "\n",
    "def minutes(row):\n",
    "    return row.total_seconds() / (60*60)\n",
    "data['date_diff_hour'] = (data['Date_entree'] - data['Date_sortie'] + data['Heure_entree'].apply(time) - data['Heure_sortie'].apply(time)).apply(minutes)"
   ]
  },
  {
   "cell_type": "markdown",
   "metadata": {},
   "source": [
    "## Determine the effect of the health crisis on the shipment"
   ]
  },
  {
   "cell_type": "code",
   "execution_count": 162,
   "metadata": {},
   "outputs": [],
   "source": [
    "def covid(row):\n",
    "    if row < datetime.strptime('2020/03/16', '%Y/%m/%d'):\n",
    "        return 'Avant_covid'\n",
    "    else :\n",
    "        return 'Pendant_covid'\n",
    "data['Covid'] = data['Date_sortie'].apply(covid)\n"
   ]
  },
  {
   "cell_type": "markdown",
   "metadata": {},
   "source": [
    "## Determine the effect of the day time on the shipment"
   ]
  },
  {
   "cell_type": "code",
   "execution_count": 163,
   "metadata": {},
   "outputs": [],
   "source": [
    "def time(row):\n",
    "    if datetime.strptime(row, '%H:%M') <= datetime.strptime('12:00', '%H:%M'):\n",
    "        return 'Matin'\n",
    "    elif datetime.strptime(row, '%H:%M') > datetime.strptime('12:00', '%H:%M') and datetime.strptime(row, '%H:%M') <= datetime.strptime('18:00', '%H:%M') : \n",
    "        return 'Apres-midi'\n",
    "    elif datetime.strptime(row, '%H:%M') > datetime.strptime('18:00', '%H:%M'): \n",
    "        return 'Nuit'\n",
    "data['Heure_entree'] = data['Heure_entree'].apply(time)\n",
    "data['Heure_sortie'] = data['Heure_sortie'].apply(time)"
   ]
  },
  {
   "cell_type": "code",
   "execution_count": 164,
   "metadata": {},
   "outputs": [
    {
     "data": {
      "text/html": [
       "<div>\n",
       "<style scoped>\n",
       "    .dataframe tbody tr th:only-of-type {\n",
       "        vertical-align: middle;\n",
       "    }\n",
       "\n",
       "    .dataframe tbody tr th {\n",
       "        vertical-align: top;\n",
       "    }\n",
       "\n",
       "    .dataframe thead th {\n",
       "        text-align: right;\n",
       "    }\n",
       "</style>\n",
       "<table border=\"1\" class=\"dataframe\">\n",
       "  <thead>\n",
       "    <tr style=\"text-align: right;\">\n",
       "      <th></th>\n",
       "      <th>Num_escale</th>\n",
       "      <th>Num_Vehicule</th>\n",
       "      <th>Num_REMORQUE</th>\n",
       "      <th>Num_Client</th>\n",
       "      <th>Date_entree</th>\n",
       "      <th>Heure_entree</th>\n",
       "      <th>Date_sortie</th>\n",
       "      <th>Heure_sortie</th>\n",
       "      <th>Poids_charge</th>\n",
       "      <th>Poids_vide</th>\n",
       "      <th>Pont_entree</th>\n",
       "      <th>pont_Sortie</th>\n",
       "      <th>Produit</th>\n",
       "      <th>date_diff_hour</th>\n",
       "      <th>Covid</th>\n",
       "    </tr>\n",
       "  </thead>\n",
       "  <tbody>\n",
       "    <tr>\n",
       "      <th>0</th>\n",
       "      <td>Escale11</td>\n",
       "      <td>Vehicule105</td>\n",
       "      <td>Remorque683</td>\n",
       "      <td>Client8</td>\n",
       "      <td>2020-04-25</td>\n",
       "      <td>Matin</td>\n",
       "      <td>2020-04-24</td>\n",
       "      <td>Nuit</td>\n",
       "      <td>43840</td>\n",
       "      <td>16380</td>\n",
       "      <td>14</td>\n",
       "      <td>14.0</td>\n",
       "      <td>BLE TENDRE</td>\n",
       "      <td>13.866667</td>\n",
       "      <td>Pendant_covid</td>\n",
       "    </tr>\n",
       "    <tr>\n",
       "      <th>1</th>\n",
       "      <td>Escale91</td>\n",
       "      <td>Vehicule799</td>\n",
       "      <td>Remorque920</td>\n",
       "      <td>Client12</td>\n",
       "      <td>2020-02-22</td>\n",
       "      <td>Apres-midi</td>\n",
       "      <td>2020-02-22</td>\n",
       "      <td>Apres-midi</td>\n",
       "      <td>43840</td>\n",
       "      <td>16460</td>\n",
       "      <td>10</td>\n",
       "      <td>10.0</td>\n",
       "      <td>CHARBON</td>\n",
       "      <td>0.300000</td>\n",
       "      <td>Avant_covid</td>\n",
       "    </tr>\n",
       "    <tr>\n",
       "      <th>2</th>\n",
       "      <td>Escale76</td>\n",
       "      <td>Vehicule1186</td>\n",
       "      <td>Remorque1574</td>\n",
       "      <td>Client7</td>\n",
       "      <td>2020-03-22</td>\n",
       "      <td>Matin</td>\n",
       "      <td>2020-03-22</td>\n",
       "      <td>Matin</td>\n",
       "      <td>43680</td>\n",
       "      <td>15980</td>\n",
       "      <td>19</td>\n",
       "      <td>19.0</td>\n",
       "      <td>HUILE BRUTE DE SOJA</td>\n",
       "      <td>1.950000</td>\n",
       "      <td>Pendant_covid</td>\n",
       "    </tr>\n",
       "    <tr>\n",
       "      <th>3</th>\n",
       "      <td>Escale72</td>\n",
       "      <td>Vehicule46</td>\n",
       "      <td>Remorque46</td>\n",
       "      <td>Client1</td>\n",
       "      <td>2020-04-14</td>\n",
       "      <td>Matin</td>\n",
       "      <td>2020-04-14</td>\n",
       "      <td>Matin</td>\n",
       "      <td>43140</td>\n",
       "      <td>16020</td>\n",
       "      <td>19</td>\n",
       "      <td>19.0</td>\n",
       "      <td>MAIS</td>\n",
       "      <td>1.350000</td>\n",
       "      <td>Pendant_covid</td>\n",
       "    </tr>\n",
       "    <tr>\n",
       "      <th>4</th>\n",
       "      <td>Escale49</td>\n",
       "      <td>Vehicule176</td>\n",
       "      <td>Remorque176</td>\n",
       "      <td>Client21</td>\n",
       "      <td>2020-05-20</td>\n",
       "      <td>Apres-midi</td>\n",
       "      <td>2020-05-20</td>\n",
       "      <td>Apres-midi</td>\n",
       "      <td>43500</td>\n",
       "      <td>15520</td>\n",
       "      <td>18</td>\n",
       "      <td>18.0</td>\n",
       "      <td>BLE TENDRE</td>\n",
       "      <td>1.150000</td>\n",
       "      <td>Pendant_covid</td>\n",
       "    </tr>\n",
       "  </tbody>\n",
       "</table>\n",
       "</div>"
      ],
      "text/plain": [
       "  Num_escale  Num_Vehicule  Num_REMORQUE Num_Client Date_entree Heure_entree  \\\n",
       "0   Escale11   Vehicule105   Remorque683    Client8  2020-04-25        Matin   \n",
       "1   Escale91   Vehicule799   Remorque920   Client12  2020-02-22   Apres-midi   \n",
       "2   Escale76  Vehicule1186  Remorque1574    Client7  2020-03-22        Matin   \n",
       "3   Escale72    Vehicule46    Remorque46    Client1  2020-04-14        Matin   \n",
       "4   Escale49   Vehicule176   Remorque176   Client21  2020-05-20   Apres-midi   \n",
       "\n",
       "  Date_sortie Heure_sortie  Poids_charge  Poids_vide  Pont_entree  \\\n",
       "0  2020-04-24         Nuit         43840       16380           14   \n",
       "1  2020-02-22   Apres-midi         43840       16460           10   \n",
       "2  2020-03-22        Matin         43680       15980           19   \n",
       "3  2020-04-14        Matin         43140       16020           19   \n",
       "4  2020-05-20   Apres-midi         43500       15520           18   \n",
       "\n",
       "   pont_Sortie              Produit  date_diff_hour          Covid  \n",
       "0         14.0           BLE TENDRE       13.866667  Pendant_covid  \n",
       "1         10.0              CHARBON        0.300000    Avant_covid  \n",
       "2         19.0  HUILE BRUTE DE SOJA        1.950000  Pendant_covid  \n",
       "3         19.0                 MAIS        1.350000  Pendant_covid  \n",
       "4         18.0           BLE TENDRE        1.150000  Pendant_covid  "
      ]
     },
     "execution_count": 164,
     "metadata": {},
     "output_type": "execute_result"
    }
   ],
   "source": [
    "data.head()"
   ]
  },
  {
   "cell_type": "markdown",
   "metadata": {},
   "source": [
    "# Prepare the data for the clustering"
   ]
  },
  {
   "cell_type": "code",
   "execution_count": 165,
   "metadata": {},
   "outputs": [
    {
     "name": "stderr",
     "output_type": "stream",
     "text": [
      "C:\\Users\\hamea\\anaconda3\\lib\\site-packages\\ipykernel_launcher.py:7: SettingWithCopyWarning: \n",
      "A value is trying to be set on a copy of a slice from a DataFrame.\n",
      "Try using .loc[row_indexer,col_indexer] = value instead\n",
      "\n",
      "See the caveats in the documentation: https://pandas.pydata.org/pandas-docs/stable/user_guide/indexing.html#returning-a-view-versus-a-copy\n",
      "  import sys\n"
     ]
    }
   ],
   "source": [
    "columns_cat = ['Num_escale', 'Num_Vehicule','Num_REMORQUE','Num_Client', 'Heure_entree', \n",
    "              'Heure_sortie', 'Covid', 'Pont_entree', 'pont_Sortie', 'Produit']\n",
    "data_cat=data[columns_cat]\n",
    "\n",
    "for c in columns_cat:\n",
    "    le = LabelEncoder()\n",
    "    data_cat[c] = le.fit_transform(data_cat[c])\n",
    "data_cat = np.array(data_cat)"
   ]
  },
  {
   "cell_type": "code",
   "execution_count": 166,
   "metadata": {},
   "outputs": [],
   "source": [
    "sc = MinMaxScaler()\n",
    "data_num_scaled=sc.fit_transform(data[['Poids_charge', 'Poids_vide','date_diff_hour']])\n",
    "data_num_array = np.array(data_num_scaled) "
   ]
  },
  {
   "cell_type": "markdown",
   "metadata": {},
   "source": [
    "## Weight factor"
   ]
  },
  {
   "cell_type": "code",
   "execution_count": 167,
   "metadata": {},
   "outputs": [],
   "source": [
    "gamma = 0.5 * data_num_array.std()"
   ]
  },
  {
   "cell_type": "markdown",
   "metadata": {},
   "source": [
    "# Clustering algorithm"
   ]
  },
  {
   "cell_type": "code",
   "execution_count": 168,
   "metadata": {},
   "outputs": [],
   "source": [
    "def numerical_distance(data_num_i, C_num):\n",
    "    dist_C1_num = np.sum((np.array(data_num_i) - np.array(C_num)[0])**2)\n",
    "    dist_C2_num = np.sum((np.array(data_num_i) - np.array(C_num)[1])**2)\n",
    "    return [dist_C1_num, dist_C2_num]"
   ]
  },
  {
   "cell_type": "code",
   "execution_count": 169,
   "metadata": {},
   "outputs": [],
   "source": [
    "def categorical_distance(data_cat_i, C_cat):\n",
    "    dist_C1_cat = np.sum(np.array(data_cat_i) != np.array(C_cat)[0])\n",
    "    dist_C2_cat = np.sum(np.array(data_cat_i) != np.array(C_cat)[1])\n",
    "    return [dist_C1_cat, dist_C2_cat]"
   ]
  },
  {
   "cell_type": "code",
   "execution_count": 170,
   "metadata": {},
   "outputs": [],
   "source": [
    "def update_center(cluster1, cluster2, labels, data_cat):\n",
    "        C_num = numerical_center(cluster1, cluster2)\n",
    "        C_cat = categorical_center(labels, data_cat)\n",
    "        return C_num, C_cat"
   ]
  },
  {
   "cell_type": "code",
   "execution_count": 171,
   "metadata": {},
   "outputs": [],
   "source": [
    "def _labels_cost(C_num, C_cat):\n",
    "    \"\"\"Calculate labels and cost function given a matrix of points and\n",
    "    a list of centroids for the k-prototypes algorithm.\n",
    "    \"\"\"\n",
    "    n_points = n\n",
    "    cost = 0\n",
    "    labels = np.empty(n_points, dtype=np.uint16)\n",
    "    for ipoint in range(n_points):\n",
    "        # Numerical cost = sum of Euclidean distances\n",
    "        num_costs = np.array(numerical_distance(data_num_array[ipoint], C_num))\n",
    "        cat_costs = np.array(categorical_distance(data_cat[ipoint], C_cat))\n",
    "        # Gamma relates the categorical cost to the numerical cost.\n",
    "        tot_costs = num_costs + gamma * cat_costs\n",
    "        clust = np.argmin(tot_costs)\n",
    "        labels[ipoint] = clust\n",
    "        cost += tot_costs[clust]\n",
    "\n",
    "    return labels, cost"
   ]
  },
  {
   "cell_type": "code",
   "execution_count": 172,
   "metadata": {},
   "outputs": [],
   "source": [
    "def categorical_center(labels, data_cat):\n",
    "    C_cat_i1 = []\n",
    "    C_cat_i2 = []\n",
    "    for i in range(len(columns_cat)):\n",
    "            List1 = np.extract(labels, data_cat[:,i]).tolist()\n",
    "            C_cat_i1.append(max(set(List1), key = List1.count))\n",
    "            List2 = np.extract((1 - np.array(labels)).tolist(), data_cat[:,i]).tolist()\n",
    "            C_cat_i2.append(max(set(List2), key = List2.count))\n",
    "    return [C_cat_i1,C_cat_i2]"
   ]
  },
  {
   "cell_type": "code",
   "execution_count": 173,
   "metadata": {},
   "outputs": [],
   "source": [
    "def numerical_center(cluster1, cluster2): \n",
    "    centroids_0 = np.mean(data_num_array[cluster1], axis = 0)\n",
    "    centroids_1 = np.mean(data_num_array[cluster2], axis = 0)\n",
    "    return [centroids_0, centroids_1]"
   ]
  },
  {
   "cell_type": "markdown",
   "metadata": {},
   "source": [
    "# Final algorithm"
   ]
  },
  {
   "cell_type": "code",
   "execution_count": 174,
   "metadata": {},
   "outputs": [],
   "source": [
    "def k_prototypes(n= len(data)):\n",
    "    a,b = random.sample(range(n),2)\n",
    "    C_num, C_cat = data_num_array[[a,b]], data_cat[[a,b]]\n",
    "    labels, cost = _labels_cost(C_num, C_cat)\n",
    "    cluster1 = np.extract(labels, np.arange(n)).tolist()\n",
    "    cluster2 = np.extract((1 - np.array(labels)).tolist(), np.arange(n)).tolist()    \n",
    "    for itera in range(20):\n",
    "        C_num,C_cat = update_center(cluster1, cluster2, labels, data_cat)\n",
    "        labels, cost = _labels_cost(C_num, C_cat)\n",
    "        cluster1 = np.extract(labels, np.arange(n)).tolist()\n",
    "        cluster2 = np.extract((1 - np.array(labels)).tolist(), np.arange(n)).tolist()\n",
    "    return len(cluster1), len(cluster2)  "
   ]
  },
  {
   "cell_type": "markdown",
   "metadata": {},
   "source": [
    "## Determine the 2 clusters using k-means algorithm and numerical data only to get a preliminary idea of the problem"
   ]
  },
  {
   "cell_type": "code",
   "execution_count": 175,
   "metadata": {
    "scrolled": true
   },
   "outputs": [
    {
     "data": {
      "text/plain": [
       "(567, 433)"
      ]
     },
     "execution_count": 175,
     "metadata": {},
     "output_type": "execute_result"
    }
   ],
   "source": [
    "import numpy as np\n",
    "from sklearn.cluster import KMeans\n",
    "X = data_num_array.tolist()\n",
    "\n",
    "kmeans = KMeans(n_clusters=2).fit(X)\n",
    "labels = kmeans.labels_\n",
    "cluster1 = np.extract(labels, np.arange(n)).tolist()\n",
    "cluster2 = np.extract((1 - np.array(labels)).tolist(), np.arange(n)).tolist()\n",
    "len(cluster1), len(cluster2)"
   ]
  },
  {
   "cell_type": "markdown",
   "metadata": {},
   "source": [
    "## Resulat"
   ]
  },
  {
   "cell_type": "code",
   "execution_count": 176,
   "metadata": {},
   "outputs": [
    {
     "data": {
      "text/plain": [
       "(542, 458)"
      ]
     },
     "execution_count": 176,
     "metadata": {},
     "output_type": "execute_result"
    }
   ],
   "source": [
    "k_prototypes(n= len(data)) "
   ]
  },
  {
   "cell_type": "code",
   "execution_count": null,
   "metadata": {},
   "outputs": [],
   "source": []
  }
 ],
 "metadata": {
  "kernelspec": {
   "display_name": "Python 3",
   "language": "python",
   "name": "python3"
  },
  "language_info": {
   "codemirror_mode": {
    "name": "ipython",
    "version": 3
   },
   "file_extension": ".py",
   "mimetype": "text/x-python",
   "name": "python",
   "nbconvert_exporter": "python",
   "pygments_lexer": "ipython3",
   "version": "3.7.6"
  }
 },
 "nbformat": 4,
 "nbformat_minor": 4
}
